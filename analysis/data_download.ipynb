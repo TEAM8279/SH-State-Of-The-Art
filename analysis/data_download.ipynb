{
 "cells": [
  {
   "cell_type": "code",
   "execution_count": 4,
   "metadata": {},
   "outputs": [],
   "source": [
    "DATA_PATH = \"../data/\"\n",
    "ARCHIVE_PATH = DATA_PATH + \"arxiv-metadata-oai-snapshot.json\"\n",
    "PDF_PATH = DATA_PATH + \"pdfs/\""
   ]
  },
  {
   "cell_type": "code",
   "execution_count": null,
   "metadata": {},
   "outputs": [
    {
     "ename": "",
     "evalue": "",
     "output_type": "error",
     "traceback": [
      "\u001b[1;31mThe Kernel crashed while executing code in the current cell or a previous cell. \n",
      "\u001b[1;31mPlease review the code in the cell(s) to identify a possible cause of the failure. \n",
      "\u001b[1;31mClick <a href='https://aka.ms/vscodeJupyterKernelCrash'>here</a> for more info. \n",
      "\u001b[1;31mView Jupyter <a href='command:jupyter.viewOutput'>log</a> for further details."
     ]
    }
   ],
   "source": [
    "import pandas as pd\n",
    "import requests\n",
    "import time"
   ]
  },
  {
   "cell_type": "code",
   "execution_count": null,
   "metadata": {},
   "outputs": [],
   "source": [
    "df = pd.read_json(ARCHIVE_PATH, lines=True)"
   ]
  },
  {
   "cell_type": "code",
   "execution_count": null,
   "metadata": {},
   "outputs": [],
   "source": [
    "ids = df[df['categories'] == 'cs.AI']['id']"
   ]
  },
  {
   "cell_type": "code",
   "execution_count": null,
   "metadata": {},
   "outputs": [
    {
     "data": {
      "text/plain": [
       "1393        0704.1394\n",
       "2009        0704.2010\n",
       "3432        0704.3433\n",
       "3514        0704.3515\n",
       "3904        0704.3905\n",
       "              ...    \n",
       "2349547    cs/9903016\n",
       "2349590    cs/9906002\n",
       "2349686    cs/9909003\n",
       "2349719    cs/9910016\n",
       "2349739    cs/9911012\n",
       "Name: id, Length: 11086, dtype: object"
      ]
     },
     "execution_count": 14,
     "metadata": {},
     "output_type": "execute_result"
    }
   ],
   "source": [
    "ids"
   ]
  },
  {
   "cell_type": "code",
   "execution_count": null,
   "metadata": {},
   "outputs": [],
   "source": [
    "def download_and_store_pdf(id):\n",
    "    url = f\"https://export.arxiv.org/pdf/{id}\"\n",
    "    response = requests.get(url)\n",
    "    if response.status_code == 200:\n",
    "        with open(PDF_PATH + f\"{id}.pdf\", 'wb') as f:\n",
    "            f.write(response.content)\n",
    "        time.sleep(1)\n",
    "    else:\n",
    "        print(f\"Failed to download {id}\")"
   ]
  },
  {
   "cell_type": "code",
   "execution_count": null,
   "metadata": {},
   "outputs": [],
   "source": [
    "max = len(ids)\n",
    "for id in ids:\n",
    "    download_and_store_pdf(id)\n",
    "    max -= 1\n",
    "    print(f\"{max} papers left to download\", end=\"\\r\")\n",
    "print(\"Done\")\n",
    "    "
   ]
  }
 ],
 "metadata": {
  "kernelspec": {
   "display_name": "venv",
   "language": "python",
   "name": "python3"
  },
  "language_info": {
   "codemirror_mode": {
    "name": "ipython",
    "version": 3
   },
   "file_extension": ".py",
   "mimetype": "text/x-python",
   "name": "python",
   "nbconvert_exporter": "python",
   "pygments_lexer": "ipython3",
   "version": "3.13.0"
  }
 },
 "nbformat": 4,
 "nbformat_minor": 2
}
