{
 "cells": [
  {
   "cell_type": "code",
   "execution_count": 18,
   "metadata": {},
   "outputs": [],
   "source": [
    "DATA_PATH = \"../data/\"\n",
    "ARCHIVE_PATH = DATA_PATH + \"arxiv-metadata-oai-snapshot.json\"\n",
    "PDF_PATH = DATA_PATH + \"pdfs/\""
   ]
  },
  {
   "cell_type": "code",
   "execution_count": 16,
   "metadata": {},
   "outputs": [],
   "source": [
    "import pandas as pd\n",
    "import requests\n",
    "import time"
   ]
  },
  {
   "cell_type": "code",
   "execution_count": 3,
   "metadata": {},
   "outputs": [],
   "source": [
    "df = pd.read_json(ARCHIVE_PATH, lines=True)"
   ]
  },
  {
   "cell_type": "code",
   "execution_count": 13,
   "metadata": {},
   "outputs": [],
   "source": [
    "ids = df[df['categories'] == 'cs.AI']['id']"
   ]
  },
  {
   "cell_type": "code",
   "execution_count": 14,
   "metadata": {},
   "outputs": [
    {
     "data": {
      "text/plain": [
       "1393        0704.1394\n",
       "2009        0704.2010\n",
       "3432        0704.3433\n",
       "3514        0704.3515\n",
       "3904        0704.3905\n",
       "              ...    \n",
       "2349547    cs/9903016\n",
       "2349590    cs/9906002\n",
       "2349686    cs/9909003\n",
       "2349719    cs/9910016\n",
       "2349739    cs/9911012\n",
       "Name: id, Length: 11086, dtype: object"
      ]
     },
     "execution_count": 14,
     "metadata": {},
     "output_type": "execute_result"
    }
   ],
   "source": [
    "ids"
   ]
  },
  {
   "cell_type": "code",
   "execution_count": 21,
   "metadata": {},
   "outputs": [],
   "source": [
    "def download_and_store_pdf(id):\n",
    "    url = f\"https://export.arxiv.org/pdf/{id}\"\n",
    "    response = requests.get(url)\n",
    "    if response.status_code == 200:\n",
    "        with open(PDF_PATH + f\"{id}.pdf\", 'wb') as f:\n",
    "            f.write(response.content)\n",
    "        time.sleep(1)\n",
    "    else:\n",
    "        print(f\"Failed to download {id}\")"
   ]
  },
  {
   "cell_type": "code",
   "execution_count": null,
   "metadata": {},
   "outputs": [],
   "source": [
    "for id in ids:\n",
    "    download_and_store_pdf(id)\n",
    "    "
   ]
  }
 ],
 "metadata": {
  "kernelspec": {
   "display_name": "venv",
   "language": "python",
   "name": "python3"
  },
  "language_info": {
   "codemirror_mode": {
    "name": "ipython",
    "version": 3
   },
   "file_extension": ".py",
   "mimetype": "text/x-python",
   "name": "python",
   "nbconvert_exporter": "python",
   "pygments_lexer": "ipython3",
   "version": "3.13.0"
  }
 },
 "nbformat": 4,
 "nbformat_minor": 2
}
